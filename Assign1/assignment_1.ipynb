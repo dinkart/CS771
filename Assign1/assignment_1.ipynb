{
  "nbformat": 4,
  "nbformat_minor": 0,
  "metadata": {
    "colab": {
      "name": "21111064.ipynb",
      "provenance": [],
      "collapsed_sections": []
    },
    "kernelspec": {
      "name": "python3",
      "display_name": "Python 3"
    },
    "language_info": {
      "name": "python"
    }
  },
  "cells": [
    {
      "cell_type": "code",
      "metadata": {
        "id": "h0Hat5woLwNb",
        "colab": {
          "base_uri": "https://localhost:8080/",
          "height": 938
        },
        "outputId": "bdd09592-4544-41b1-adf0-eca7fa61088c"
      },
      "source": [
        "import matplotlib.pyplot  as plt \n",
        "import pandas as pd\n",
        "import numpy as np\n",
        "from numpy import linalg as lin\n",
        " \n",
        "df = pd.read_csv(\"imports-85.csv\", header= None)\n",
        "df.columns = ['symboling','losses','make','fuel-type','aspiration','doors','body-style','drive-wheels','engine-location','wheel-base','length', 'width','height','curb-weight','engine-type',\n",
        "              'cylinders','engine-size','fuel-system','bore','stroke','ratio','horsepower','peak-rpm' ,'city-mpg' ,'highway-mpg','price']"
      ],
      "execution_count": null,
      "outputs": [
        {
          "output_type": "error",
          "ename": "FileNotFoundError",
          "evalue": "ignored",
          "traceback": [
            "\u001b[0;31m---------------------------------------------------------------------------\u001b[0m",
            "\u001b[0;31mFileNotFoundError\u001b[0m                         Traceback (most recent call last)",
            "\u001b[0;32m<ipython-input-1-46c8f03e4f5a>\u001b[0m in \u001b[0;36m<module>\u001b[0;34m()\u001b[0m\n\u001b[1;32m      4\u001b[0m \u001b[0;32mfrom\u001b[0m \u001b[0mnumpy\u001b[0m \u001b[0;32mimport\u001b[0m \u001b[0mlinalg\u001b[0m \u001b[0;32mas\u001b[0m \u001b[0mlin\u001b[0m\u001b[0;34m\u001b[0m\u001b[0;34m\u001b[0m\u001b[0m\n\u001b[1;32m      5\u001b[0m \u001b[0;34m\u001b[0m\u001b[0m\n\u001b[0;32m----> 6\u001b[0;31m \u001b[0mdf\u001b[0m \u001b[0;34m=\u001b[0m \u001b[0mpd\u001b[0m\u001b[0;34m.\u001b[0m\u001b[0mread_csv\u001b[0m\u001b[0;34m(\u001b[0m\u001b[0;34m\"imports-85.csv\"\u001b[0m\u001b[0;34m,\u001b[0m \u001b[0mheader\u001b[0m\u001b[0;34m=\u001b[0m \u001b[0;32mNone\u001b[0m\u001b[0;34m)\u001b[0m\u001b[0;34m\u001b[0m\u001b[0;34m\u001b[0m\u001b[0m\n\u001b[0m\u001b[1;32m      7\u001b[0m df.columns = ['symboling','losses','make','fuel-type','aspiration','doors','body-style','drive-wheels','engine-location','wheel-base','length', 'width','height','curb-weight','engine-type',\n\u001b[1;32m      8\u001b[0m               'cylinders','engine-size','fuel-system','bore','stroke','ratio','horsepower','peak-rpm' ,'city-mpg' ,'highway-mpg','price']\n",
            "\u001b[0;32m/usr/local/lib/python3.7/dist-packages/pandas/io/parsers.py\u001b[0m in \u001b[0;36mread_csv\u001b[0;34m(filepath_or_buffer, sep, delimiter, header, names, index_col, usecols, squeeze, prefix, mangle_dupe_cols, dtype, engine, converters, true_values, false_values, skipinitialspace, skiprows, skipfooter, nrows, na_values, keep_default_na, na_filter, verbose, skip_blank_lines, parse_dates, infer_datetime_format, keep_date_col, date_parser, dayfirst, cache_dates, iterator, chunksize, compression, thousands, decimal, lineterminator, quotechar, quoting, doublequote, escapechar, comment, encoding, dialect, error_bad_lines, warn_bad_lines, delim_whitespace, low_memory, memory_map, float_precision)\u001b[0m\n\u001b[1;32m    686\u001b[0m     )\n\u001b[1;32m    687\u001b[0m \u001b[0;34m\u001b[0m\u001b[0m\n\u001b[0;32m--> 688\u001b[0;31m     \u001b[0;32mreturn\u001b[0m \u001b[0m_read\u001b[0m\u001b[0;34m(\u001b[0m\u001b[0mfilepath_or_buffer\u001b[0m\u001b[0;34m,\u001b[0m \u001b[0mkwds\u001b[0m\u001b[0;34m)\u001b[0m\u001b[0;34m\u001b[0m\u001b[0;34m\u001b[0m\u001b[0m\n\u001b[0m\u001b[1;32m    689\u001b[0m \u001b[0;34m\u001b[0m\u001b[0m\n\u001b[1;32m    690\u001b[0m \u001b[0;34m\u001b[0m\u001b[0m\n",
            "\u001b[0;32m/usr/local/lib/python3.7/dist-packages/pandas/io/parsers.py\u001b[0m in \u001b[0;36m_read\u001b[0;34m(filepath_or_buffer, kwds)\u001b[0m\n\u001b[1;32m    452\u001b[0m \u001b[0;34m\u001b[0m\u001b[0m\n\u001b[1;32m    453\u001b[0m     \u001b[0;31m# Create the parser.\u001b[0m\u001b[0;34m\u001b[0m\u001b[0;34m\u001b[0m\u001b[0;34m\u001b[0m\u001b[0m\n\u001b[0;32m--> 454\u001b[0;31m     \u001b[0mparser\u001b[0m \u001b[0;34m=\u001b[0m \u001b[0mTextFileReader\u001b[0m\u001b[0;34m(\u001b[0m\u001b[0mfp_or_buf\u001b[0m\u001b[0;34m,\u001b[0m \u001b[0;34m**\u001b[0m\u001b[0mkwds\u001b[0m\u001b[0;34m)\u001b[0m\u001b[0;34m\u001b[0m\u001b[0;34m\u001b[0m\u001b[0m\n\u001b[0m\u001b[1;32m    455\u001b[0m \u001b[0;34m\u001b[0m\u001b[0m\n\u001b[1;32m    456\u001b[0m     \u001b[0;32mif\u001b[0m \u001b[0mchunksize\u001b[0m \u001b[0;32mor\u001b[0m \u001b[0miterator\u001b[0m\u001b[0;34m:\u001b[0m\u001b[0;34m\u001b[0m\u001b[0;34m\u001b[0m\u001b[0m\n",
            "\u001b[0;32m/usr/local/lib/python3.7/dist-packages/pandas/io/parsers.py\u001b[0m in \u001b[0;36m__init__\u001b[0;34m(self, f, engine, **kwds)\u001b[0m\n\u001b[1;32m    946\u001b[0m             \u001b[0mself\u001b[0m\u001b[0;34m.\u001b[0m\u001b[0moptions\u001b[0m\u001b[0;34m[\u001b[0m\u001b[0;34m\"has_index_names\"\u001b[0m\u001b[0;34m]\u001b[0m \u001b[0;34m=\u001b[0m \u001b[0mkwds\u001b[0m\u001b[0;34m[\u001b[0m\u001b[0;34m\"has_index_names\"\u001b[0m\u001b[0;34m]\u001b[0m\u001b[0;34m\u001b[0m\u001b[0;34m\u001b[0m\u001b[0m\n\u001b[1;32m    947\u001b[0m \u001b[0;34m\u001b[0m\u001b[0m\n\u001b[0;32m--> 948\u001b[0;31m         \u001b[0mself\u001b[0m\u001b[0;34m.\u001b[0m\u001b[0m_make_engine\u001b[0m\u001b[0;34m(\u001b[0m\u001b[0mself\u001b[0m\u001b[0;34m.\u001b[0m\u001b[0mengine\u001b[0m\u001b[0;34m)\u001b[0m\u001b[0;34m\u001b[0m\u001b[0;34m\u001b[0m\u001b[0m\n\u001b[0m\u001b[1;32m    949\u001b[0m \u001b[0;34m\u001b[0m\u001b[0m\n\u001b[1;32m    950\u001b[0m     \u001b[0;32mdef\u001b[0m \u001b[0mclose\u001b[0m\u001b[0;34m(\u001b[0m\u001b[0mself\u001b[0m\u001b[0;34m)\u001b[0m\u001b[0;34m:\u001b[0m\u001b[0;34m\u001b[0m\u001b[0;34m\u001b[0m\u001b[0m\n",
            "\u001b[0;32m/usr/local/lib/python3.7/dist-packages/pandas/io/parsers.py\u001b[0m in \u001b[0;36m_make_engine\u001b[0;34m(self, engine)\u001b[0m\n\u001b[1;32m   1178\u001b[0m     \u001b[0;32mdef\u001b[0m \u001b[0m_make_engine\u001b[0m\u001b[0;34m(\u001b[0m\u001b[0mself\u001b[0m\u001b[0;34m,\u001b[0m \u001b[0mengine\u001b[0m\u001b[0;34m=\u001b[0m\u001b[0;34m\"c\"\u001b[0m\u001b[0;34m)\u001b[0m\u001b[0;34m:\u001b[0m\u001b[0;34m\u001b[0m\u001b[0;34m\u001b[0m\u001b[0m\n\u001b[1;32m   1179\u001b[0m         \u001b[0;32mif\u001b[0m \u001b[0mengine\u001b[0m \u001b[0;34m==\u001b[0m \u001b[0;34m\"c\"\u001b[0m\u001b[0;34m:\u001b[0m\u001b[0;34m\u001b[0m\u001b[0;34m\u001b[0m\u001b[0m\n\u001b[0;32m-> 1180\u001b[0;31m             \u001b[0mself\u001b[0m\u001b[0;34m.\u001b[0m\u001b[0m_engine\u001b[0m \u001b[0;34m=\u001b[0m \u001b[0mCParserWrapper\u001b[0m\u001b[0;34m(\u001b[0m\u001b[0mself\u001b[0m\u001b[0;34m.\u001b[0m\u001b[0mf\u001b[0m\u001b[0;34m,\u001b[0m \u001b[0;34m**\u001b[0m\u001b[0mself\u001b[0m\u001b[0;34m.\u001b[0m\u001b[0moptions\u001b[0m\u001b[0;34m)\u001b[0m\u001b[0;34m\u001b[0m\u001b[0;34m\u001b[0m\u001b[0m\n\u001b[0m\u001b[1;32m   1181\u001b[0m         \u001b[0;32melse\u001b[0m\u001b[0;34m:\u001b[0m\u001b[0;34m\u001b[0m\u001b[0;34m\u001b[0m\u001b[0m\n\u001b[1;32m   1182\u001b[0m             \u001b[0;32mif\u001b[0m \u001b[0mengine\u001b[0m \u001b[0;34m==\u001b[0m \u001b[0;34m\"python\"\u001b[0m\u001b[0;34m:\u001b[0m\u001b[0;34m\u001b[0m\u001b[0;34m\u001b[0m\u001b[0m\n",
            "\u001b[0;32m/usr/local/lib/python3.7/dist-packages/pandas/io/parsers.py\u001b[0m in \u001b[0;36m__init__\u001b[0;34m(self, src, **kwds)\u001b[0m\n\u001b[1;32m   2008\u001b[0m         \u001b[0mkwds\u001b[0m\u001b[0;34m[\u001b[0m\u001b[0;34m\"usecols\"\u001b[0m\u001b[0;34m]\u001b[0m \u001b[0;34m=\u001b[0m \u001b[0mself\u001b[0m\u001b[0;34m.\u001b[0m\u001b[0musecols\u001b[0m\u001b[0;34m\u001b[0m\u001b[0;34m\u001b[0m\u001b[0m\n\u001b[1;32m   2009\u001b[0m \u001b[0;34m\u001b[0m\u001b[0m\n\u001b[0;32m-> 2010\u001b[0;31m         \u001b[0mself\u001b[0m\u001b[0;34m.\u001b[0m\u001b[0m_reader\u001b[0m \u001b[0;34m=\u001b[0m \u001b[0mparsers\u001b[0m\u001b[0;34m.\u001b[0m\u001b[0mTextReader\u001b[0m\u001b[0;34m(\u001b[0m\u001b[0msrc\u001b[0m\u001b[0;34m,\u001b[0m \u001b[0;34m**\u001b[0m\u001b[0mkwds\u001b[0m\u001b[0;34m)\u001b[0m\u001b[0;34m\u001b[0m\u001b[0;34m\u001b[0m\u001b[0m\n\u001b[0m\u001b[1;32m   2011\u001b[0m         \u001b[0mself\u001b[0m\u001b[0;34m.\u001b[0m\u001b[0munnamed_cols\u001b[0m \u001b[0;34m=\u001b[0m \u001b[0mself\u001b[0m\u001b[0;34m.\u001b[0m\u001b[0m_reader\u001b[0m\u001b[0;34m.\u001b[0m\u001b[0munnamed_cols\u001b[0m\u001b[0;34m\u001b[0m\u001b[0;34m\u001b[0m\u001b[0m\n\u001b[1;32m   2012\u001b[0m \u001b[0;34m\u001b[0m\u001b[0m\n",
            "\u001b[0;32mpandas/_libs/parsers.pyx\u001b[0m in \u001b[0;36mpandas._libs.parsers.TextReader.__cinit__\u001b[0;34m()\u001b[0m\n",
            "\u001b[0;32mpandas/_libs/parsers.pyx\u001b[0m in \u001b[0;36mpandas._libs.parsers.TextReader._setup_parser_source\u001b[0;34m()\u001b[0m\n",
            "\u001b[0;31mFileNotFoundError\u001b[0m: [Errno 2] No such file or directory: 'imports-85.csv'"
          ]
        }
      ]
    },
    {
      "cell_type": "markdown",
      "metadata": {
        "id": "Rpxiu64wL4s6"
      },
      "source": [
        "Preprocessing of data"
      ]
    },
    {
      "cell_type": "code",
      "metadata": {
        "id": "WsdUb_QfMCS_"
      },
      "source": [
        "#for one hot encoding\n",
        "def dummy(df,col):\n",
        "    dum = pd.get_dummies(df[col])\n",
        "    if(len(dum.columns)==2):\n",
        "        df[col] = dum[dum.columns[1]]\n",
        "    else:\n",
        "        df.drop(columns=col)\n",
        "        df = pd.concat([df, dum], axis=1)\n",
        "    return df"
      ],
      "execution_count": null,
      "outputs": []
    },
    {
      "cell_type": "code",
      "metadata": {
        "id": "2Ul8UUDzOIBX",
        "colab": {
          "base_uri": "https://localhost:8080/",
          "height": 455
        },
        "outputId": "95b04a0f-5653-45e7-fd72-614bdf9f0fba"
      },
      "source": [
        "category = ['make','fuel-type','aspiration','doors','body-style','drive-wheels','engine-location','engine-type','cylinders','fuel-system']\n",
        "for i in category:\n",
        "    df = dummy(df,i)\n",
        "    df = df.drop(columns=i)\n",
        "#replace empty spaces\n",
        "df.replace('?', np.nan, inplace=True)\n",
        "df.dropna(axis=0, thresh=2, inplace=True)\n",
        "#replace the empty spaces by average\n",
        "avg = ['losses','bore','stroke','horsepower','peak-rpm','price']\n",
        "for i in avg:\n",
        "    df[i]=pd.to_numeric(df[i],errors='coerce')\n",
        "    df[i] = df[i].replace(np.nan,df[i].mean())\n",
        "price = df['price']\n",
        "df = df.drop(columns='price')\n",
        "df['price']=price\n",
        "arr = df.to_numpy"
      ],
      "execution_count": null,
      "outputs": [
        {
          "output_type": "error",
          "ename": "NameError",
          "evalue": "ignored",
          "traceback": [
            "\u001b[0;31m---------------------------------------------------------------------------\u001b[0m",
            "\u001b[0;31mNameError\u001b[0m                                 Traceback (most recent call last)",
            "\u001b[0;32m<ipython-input-3-a18870e60413>\u001b[0m in \u001b[0;36m<module>\u001b[0;34m()\u001b[0m\n\u001b[1;32m      1\u001b[0m \u001b[0mcategory\u001b[0m \u001b[0;34m=\u001b[0m \u001b[0;34m[\u001b[0m\u001b[0;34m'make'\u001b[0m\u001b[0;34m,\u001b[0m\u001b[0;34m'fuel-type'\u001b[0m\u001b[0;34m,\u001b[0m\u001b[0;34m'aspiration'\u001b[0m\u001b[0;34m,\u001b[0m\u001b[0;34m'doors'\u001b[0m\u001b[0;34m,\u001b[0m\u001b[0;34m'body-style'\u001b[0m\u001b[0;34m,\u001b[0m\u001b[0;34m'drive-wheels'\u001b[0m\u001b[0;34m,\u001b[0m\u001b[0;34m'engine-location'\u001b[0m\u001b[0;34m,\u001b[0m\u001b[0;34m'engine-type'\u001b[0m\u001b[0;34m,\u001b[0m\u001b[0;34m'cylinders'\u001b[0m\u001b[0;34m,\u001b[0m\u001b[0;34m'fuel-system'\u001b[0m\u001b[0;34m]\u001b[0m\u001b[0;34m\u001b[0m\u001b[0;34m\u001b[0m\u001b[0m\n\u001b[1;32m      2\u001b[0m \u001b[0;32mfor\u001b[0m \u001b[0mi\u001b[0m \u001b[0;32min\u001b[0m \u001b[0mcategory\u001b[0m\u001b[0;34m:\u001b[0m\u001b[0;34m\u001b[0m\u001b[0;34m\u001b[0m\u001b[0m\n\u001b[0;32m----> 3\u001b[0;31m     \u001b[0mdf\u001b[0m \u001b[0;34m=\u001b[0m \u001b[0mdummy\u001b[0m\u001b[0;34m(\u001b[0m\u001b[0mdf\u001b[0m\u001b[0;34m,\u001b[0m\u001b[0mi\u001b[0m\u001b[0;34m)\u001b[0m\u001b[0;34m\u001b[0m\u001b[0;34m\u001b[0m\u001b[0m\n\u001b[0m\u001b[1;32m      4\u001b[0m     \u001b[0mdf\u001b[0m \u001b[0;34m=\u001b[0m \u001b[0mdf\u001b[0m\u001b[0;34m.\u001b[0m\u001b[0mdrop\u001b[0m\u001b[0;34m(\u001b[0m\u001b[0mcolumns\u001b[0m\u001b[0;34m=\u001b[0m\u001b[0mi\u001b[0m\u001b[0;34m)\u001b[0m\u001b[0;34m\u001b[0m\u001b[0;34m\u001b[0m\u001b[0m\n\u001b[1;32m      5\u001b[0m \u001b[0;31m#replace empty spaces\u001b[0m\u001b[0;34m\u001b[0m\u001b[0;34m\u001b[0m\u001b[0;34m\u001b[0m\u001b[0m\n",
            "\u001b[0;31mNameError\u001b[0m: name 'df' is not defined"
          ]
        }
      ]
    },
    {
      "cell_type": "code",
      "metadata": {
        "id": "bK2AaqBbOPA-"
      },
      "source": [
        "#shuffle data set\n",
        "shuffle= [163, 181,  48, 109, 119, 134, 155, 113,  42,  56, 144, 107,  11,\n",
        "        72,  44, 161, 168,   3, 130,  62,  58, 171,  64, 202,  73, 149,\n",
        "        95,  57, 191, 183,   8, 188,  82, 152, 169,  76,  69, 106,  49,\n",
        "       200, 203,  89, 105,  96,  70,  68,  59, 122, 182,  26, 201, 102,\n",
        "        28,  25, 118,  94,  41,  83, 136, 172, 112, 187, 143, 100, 194,\n",
        "        27, 117,  20, 175,  53, 192,   9, 138, 176, 139,  47, 153,  86,\n",
        "        91, 185,   0,  18, 124, 166, 173, 156,  34,   7, 108, 160, 151,\n",
        "        99,  77,  78,  40,  67, 170, 162, 179,  17, 180, 111, 167,  75,\n",
        "        74,  87, 114, 159, 184,  80, 147, 137, 101, 131,   1,  93,  16,\n",
        "        39,  36, 165, 127,  37, 197, 120,  52, 125,  79,  43,  31, 154,\n",
        "        21,  98,  46, 116, 148,  51,  13, 178, 190,  33,  92, 174, 186,\n",
        "        55,  19,  12,  24,  38, 135,  66,  90, 128, 196, 129, 198,   5,\n",
        "        84, 199,  10,  81,  14,  63,  88, 146, 145,  85,  15, 123,   6,\n",
        "        50,  60, 132,  54, 140, 177, 115,  65, 157, 164,   2, 150, 104,\n",
        "       204, 158,  97,  23, 195, 193,   4, 103,  32, 142, 126,  71, 189,\n",
        "       141,  45, 121,  22,  35,  61,  30, 133,  29, 110]\n",
        "\n",
        "\n",
        "randdf = df.reindex(shuffle)\n",
        "arr = randdf.to_numpy() \n",
        "testno = int(len(arr)*0.781)\n",
        "train = arr[:testno]\n",
        "test = arr[testno:,:-1]\n",
        "testpred  = arr[testno:,-1]\n",
        "#valid = int(len(testno)*0.6)\n",
        "#test = arr[:valid]\n",
        "#valid = arr[valid:]\n"
      ],
      "execution_count": null,
      "outputs": []
    },
    {
      "cell_type": "code",
      "metadata": {
        "id": "tQlx14Y3PazZ"
      },
      "source": [
        "#Train data with last column as price\n",
        "#Test data with no last colum\n",
        "#pred contains test data actual value\n",
        "\n",
        "def KNN(X,l,n):\n",
        "    ldist = []\n",
        "    ldist.clear()\n",
        "    lp=[]\n",
        "    for j in range(0,len(X)):\n",
        "        ldist.clear()\n",
        "        for i in range(0,len(l)):\n",
        "            dist = X[j] - l[i][:-1]\n",
        "            ldist.append((lin.norm(dist,ord=1),l[i][-1]))\n",
        "        ldist.sort() \n",
        "        sum = 0\n",
        "        for i in range(0,n):\n",
        "            sum = ldist[i][1] + sum\n",
        "        lp.append(sum/n)\n",
        "    return lp"
      ],
      "execution_count": null,
      "outputs": []
    },
    {
      "cell_type": "code",
      "metadata": {
        "id": "wgaVRm1WT8yp"
      },
      "source": [
        "def err(predictions, targets):\n",
        "    return np.sqrt(((predictions - targets) ** 2).mean())"
      ],
      "execution_count": null,
      "outputs": []
    },
    {
      "cell_type": "markdown",
      "metadata": {
        "id": "d6PW1KlCLxop"
      },
      "source": [
        "Split training dataset for cross validation"
      ]
    },
    {
      "cell_type": "code",
      "metadata": {
        "id": "V5Gs8-uPSfCZ"
      },
      "source": [
        "def split_given_size(a, size):\n",
        "    return np.split(a, np.arange(size,len(a),size))\n",
        "c = split_given_size(train,32)"
      ],
      "execution_count": null,
      "outputs": []
    },
    {
      "cell_type": "code",
      "metadata": {
        "colab": {
          "base_uri": "https://localhost:8080/",
          "height": 455
        },
        "id": "ucbrpus-DV5X",
        "outputId": "241b47be-b136-4664-eecc-e02bff59bb3e"
      },
      "source": [
        "rval = c[1]\n",
        "rtrain = (np.concatenate(c[:1]+c[2:]))\n",
        "rpred = rval[:,-1]\n",
        "rval = rval[:,:-1]\n",
        "pred = KNN(rval,rtrain,2)\n",
        "sum = err(pred,rpred)\n",
        "print(sum)\n"
      ],
      "execution_count": null,
      "outputs": [
        {
          "output_type": "error",
          "ename": "TypeError",
          "evalue": "ignored",
          "traceback": [
            "\u001b[0;31m---------------------------------------------------------------------------\u001b[0m",
            "\u001b[0;31mTypeError\u001b[0m                                 Traceback (most recent call last)",
            "\u001b[0;32m<ipython-input-72-1c503eb1020e>\u001b[0m in \u001b[0;36m<module>\u001b[0;34m()\u001b[0m\n\u001b[1;32m      1\u001b[0m \u001b[0mrval\u001b[0m \u001b[0;34m=\u001b[0m \u001b[0mc\u001b[0m\u001b[0;34m[\u001b[0m\u001b[0;36m1\u001b[0m\u001b[0;34m]\u001b[0m\u001b[0;34m\u001b[0m\u001b[0;34m\u001b[0m\u001b[0m\n\u001b[1;32m      2\u001b[0m \u001b[0mrtrain\u001b[0m \u001b[0;34m=\u001b[0m \u001b[0;34m(\u001b[0m\u001b[0mnp\u001b[0m\u001b[0;34m.\u001b[0m\u001b[0mconcatenate\u001b[0m\u001b[0;34m(\u001b[0m\u001b[0mc\u001b[0m\u001b[0;34m[\u001b[0m\u001b[0;34m:\u001b[0m\u001b[0;36m1\u001b[0m\u001b[0;34m]\u001b[0m\u001b[0;34m+\u001b[0m\u001b[0mc\u001b[0m\u001b[0;34m[\u001b[0m\u001b[0;36m2\u001b[0m\u001b[0;34m:\u001b[0m\u001b[0;34m]\u001b[0m\u001b[0;34m)\u001b[0m\u001b[0;34m)\u001b[0m\u001b[0;34m\u001b[0m\u001b[0;34m\u001b[0m\u001b[0m\n\u001b[0;32m----> 3\u001b[0;31m \u001b[0mrpred\u001b[0m \u001b[0;34m=\u001b[0m \u001b[0mrval\u001b[0m\u001b[0;34m[\u001b[0m\u001b[0;34m:\u001b[0m\u001b[0;34m,\u001b[0m\u001b[0;34m-\u001b[0m\u001b[0;36m1\u001b[0m\u001b[0;34m]\u001b[0m\u001b[0;34m\u001b[0m\u001b[0;34m\u001b[0m\u001b[0m\n\u001b[0m\u001b[1;32m      4\u001b[0m \u001b[0mrval\u001b[0m \u001b[0;34m=\u001b[0m \u001b[0mrval\u001b[0m\u001b[0;34m[\u001b[0m\u001b[0;34m:\u001b[0m\u001b[0;34m,\u001b[0m\u001b[0;34m:\u001b[0m\u001b[0;34m-\u001b[0m\u001b[0;36m1\u001b[0m\u001b[0;34m]\u001b[0m\u001b[0;34m\u001b[0m\u001b[0;34m\u001b[0m\u001b[0m\n\u001b[1;32m      5\u001b[0m \u001b[0mpred\u001b[0m \u001b[0;34m=\u001b[0m \u001b[0mKNN\u001b[0m\u001b[0;34m(\u001b[0m\u001b[0mrval\u001b[0m\u001b[0;34m,\u001b[0m\u001b[0mrtrain\u001b[0m\u001b[0;34m,\u001b[0m\u001b[0;36m2\u001b[0m\u001b[0;34m)\u001b[0m\u001b[0;34m\u001b[0m\u001b[0;34m\u001b[0m\u001b[0m\n",
            "\u001b[0;32m/usr/local/lib/python3.7/dist-packages/pandas/core/frame.py\u001b[0m in \u001b[0;36m__getitem__\u001b[0;34m(self, key)\u001b[0m\n\u001b[1;32m   2904\u001b[0m             \u001b[0;32mif\u001b[0m \u001b[0mself\u001b[0m\u001b[0;34m.\u001b[0m\u001b[0mcolumns\u001b[0m\u001b[0;34m.\u001b[0m\u001b[0mnlevels\u001b[0m \u001b[0;34m>\u001b[0m \u001b[0;36m1\u001b[0m\u001b[0;34m:\u001b[0m\u001b[0;34m\u001b[0m\u001b[0;34m\u001b[0m\u001b[0m\n\u001b[1;32m   2905\u001b[0m                 \u001b[0;32mreturn\u001b[0m \u001b[0mself\u001b[0m\u001b[0;34m.\u001b[0m\u001b[0m_getitem_multilevel\u001b[0m\u001b[0;34m(\u001b[0m\u001b[0mkey\u001b[0m\u001b[0;34m)\u001b[0m\u001b[0;34m\u001b[0m\u001b[0;34m\u001b[0m\u001b[0m\n\u001b[0;32m-> 2906\u001b[0;31m             \u001b[0mindexer\u001b[0m \u001b[0;34m=\u001b[0m \u001b[0mself\u001b[0m\u001b[0;34m.\u001b[0m\u001b[0mcolumns\u001b[0m\u001b[0;34m.\u001b[0m\u001b[0mget_loc\u001b[0m\u001b[0;34m(\u001b[0m\u001b[0mkey\u001b[0m\u001b[0;34m)\u001b[0m\u001b[0;34m\u001b[0m\u001b[0;34m\u001b[0m\u001b[0m\n\u001b[0m\u001b[1;32m   2907\u001b[0m             \u001b[0;32mif\u001b[0m \u001b[0mis_integer\u001b[0m\u001b[0;34m(\u001b[0m\u001b[0mindexer\u001b[0m\u001b[0;34m)\u001b[0m\u001b[0;34m:\u001b[0m\u001b[0;34m\u001b[0m\u001b[0;34m\u001b[0m\u001b[0m\n\u001b[1;32m   2908\u001b[0m                 \u001b[0mindexer\u001b[0m \u001b[0;34m=\u001b[0m \u001b[0;34m[\u001b[0m\u001b[0mindexer\u001b[0m\u001b[0;34m]\u001b[0m\u001b[0;34m\u001b[0m\u001b[0;34m\u001b[0m\u001b[0m\n",
            "\u001b[0;32m/usr/local/lib/python3.7/dist-packages/pandas/core/indexes/base.py\u001b[0m in \u001b[0;36mget_loc\u001b[0;34m(self, key, method, tolerance)\u001b[0m\n\u001b[1;32m   2896\u001b[0m             \u001b[0mcasted_key\u001b[0m \u001b[0;34m=\u001b[0m \u001b[0mself\u001b[0m\u001b[0;34m.\u001b[0m\u001b[0m_maybe_cast_indexer\u001b[0m\u001b[0;34m(\u001b[0m\u001b[0mkey\u001b[0m\u001b[0;34m)\u001b[0m\u001b[0;34m\u001b[0m\u001b[0;34m\u001b[0m\u001b[0m\n\u001b[1;32m   2897\u001b[0m             \u001b[0;32mtry\u001b[0m\u001b[0;34m:\u001b[0m\u001b[0;34m\u001b[0m\u001b[0;34m\u001b[0m\u001b[0m\n\u001b[0;32m-> 2898\u001b[0;31m                 \u001b[0;32mreturn\u001b[0m \u001b[0mself\u001b[0m\u001b[0;34m.\u001b[0m\u001b[0m_engine\u001b[0m\u001b[0;34m.\u001b[0m\u001b[0mget_loc\u001b[0m\u001b[0;34m(\u001b[0m\u001b[0mcasted_key\u001b[0m\u001b[0;34m)\u001b[0m\u001b[0;34m\u001b[0m\u001b[0;34m\u001b[0m\u001b[0m\n\u001b[0m\u001b[1;32m   2899\u001b[0m             \u001b[0;32mexcept\u001b[0m \u001b[0mKeyError\u001b[0m \u001b[0;32mas\u001b[0m \u001b[0merr\u001b[0m\u001b[0;34m:\u001b[0m\u001b[0;34m\u001b[0m\u001b[0;34m\u001b[0m\u001b[0m\n\u001b[1;32m   2900\u001b[0m                 \u001b[0;32mraise\u001b[0m \u001b[0mKeyError\u001b[0m\u001b[0;34m(\u001b[0m\u001b[0mkey\u001b[0m\u001b[0;34m)\u001b[0m \u001b[0;32mfrom\u001b[0m \u001b[0merr\u001b[0m\u001b[0;34m\u001b[0m\u001b[0;34m\u001b[0m\u001b[0m\n",
            "\u001b[0;32mpandas/_libs/index.pyx\u001b[0m in \u001b[0;36mpandas._libs.index.IndexEngine.get_loc\u001b[0;34m()\u001b[0m\n",
            "\u001b[0;32mpandas/_libs/index.pyx\u001b[0m in \u001b[0;36mpandas._libs.index.IndexEngine.get_loc\u001b[0;34m()\u001b[0m\n",
            "\u001b[0;31mTypeError\u001b[0m: '(slice(None, None, None), -1)' is an invalid key"
          ]
        }
      ]
    },
    {
      "cell_type": "markdown",
      "metadata": {
        "id": "551COoKYK6OW"
      },
      "source": [
        "The RSME is 3606.6"
      ]
    },
    {
      "cell_type": "code",
      "metadata": {
        "id": "VKvXrwqZS3Nl"
      },
      "source": [
        "#cross validation for optimal value of k\n",
        "rerror = []\n",
        "rsme = 0\n",
        "for n in range(1,30):\n",
        "    rsme = 0\n",
        "    for i in range(5):\n",
        "        rval = c[i]\n",
        "        rtrain = (np.concatenate(c[:i]+c[i+1:]))\n",
        "        rpred = rval[:,-1]\n",
        "        rval = rval[:,:-1]\n",
        "        pred = KNN(rval,rtrain,n)\n",
        "        sum = err(pred,rpred)\n",
        "        rsme = rsme + sum\n",
        "    rerror.append((rsme/5,n))"
      ],
      "execution_count": null,
      "outputs": []
    },
    {
      "cell_type": "markdown",
      "metadata": {
        "id": "ju9C3sPXKXI9"
      },
      "source": [
        "The optimal value of k =5"
      ]
    },
    {
      "cell_type": "code",
      "metadata": {
        "id": "g-yDOCro9AAG"
      },
      "source": [
        "a,b =zip(*rerror)\n",
        "plt.scatter(b,a)\n",
        "plt.show()"
      ],
      "execution_count": null,
      "outputs": []
    },
    {
      "cell_type": "markdown",
      "metadata": {
        "id": "FlRDhfOdLWsS"
      },
      "source": [
        "To select top features"
      ]
    },
    {
      "cell_type": "code",
      "metadata": {
        "id": "wz6N58Pu9LVi"
      },
      "source": [
        "#average rsme for all featues only single feautre is compared with the predicted value\n",
        "k = []\n",
        "for i in range(70):\n",
        "    ftrain = train[:,[i,-1]]\n",
        "    ftest = test[:,[i]]\n",
        "    fy=testpred[:]\n",
        "    pred = KNN(ftest,ftrain,n) \n",
        "    rsme = err(pred,fy)\n",
        "    k.append((rsme,df.columns[i]))\n",
        "k.sort()\n",
        "print(k)"
      ],
      "execution_count": null,
      "outputs": []
    },
    {
      "cell_type": "markdown",
      "metadata": {
        "id": "Wagrl8OEb2pt"
      },
      "source": [
        "Top 8 features are selected to reduce the rsme\n"
      ]
    },
    {
      "cell_type": "code",
      "metadata": {
        "id": "OwDjfzVe6qPd"
      },
      "source": [
        "newdf =df[['engine-size','city-mpg','curb-weight','highway-mpg','horsepower','wheel-base','width','length','price']]\n",
        "randdf = newdf.reindex(shuffle)\n",
        "arr = randdf.to_numpy() \n",
        "ptestno = int(len(arr)*0.781)\n",
        "ptrain = arr[:testno]\n",
        "ptest = arr[testno:,:-1]\n",
        "testpred  = arr[testno:,-1]\n",
        "c = split_given_size(ptrain,32)"
      ],
      "execution_count": null,
      "outputs": []
    },
    {
      "cell_type": "code",
      "metadata": {
        "id": "64YMGy4W6udf"
      },
      "source": [
        "regerror = []\n",
        "rsme = 0\n",
        "for i in range(1,30):\n",
        "    rsme=0\n",
        "    for j in range(5):\n",
        "        nrval = c[j]\n",
        "        nrtrain = (np.concatenate(c[:j]+c[j+1:]))\n",
        "        nrpred = nrval[:,-1]\n",
        "        nrval = nrval[:,:-1]\n",
        "        pred = KNN(nrval,nrtrain,i)\n",
        "        sum = err(pred,nrpred)\n",
        "        rsme = rsme + sum\n",
        "    regerror.append((rsme/5,i))"
      ],
      "execution_count": null,
      "outputs": []
    },
    {
      "cell_type": "markdown",
      "metadata": {
        "id": "IKEkPonMKKxO"
      },
      "source": [
        "The optimal value of K changes from 5 to 7 when highly related features are taken.\n",
        "The number of feature variable were reduced and features relevant to model were take in count to make model more generalized"
      ]
    },
    {
      "cell_type": "code",
      "metadata": {
        "id": "LWsUAKBqCRIJ"
      },
      "source": [
        "a,b =zip(*regerror)\n",
        "plt.scatter(b,a)\n",
        "plt.show()\n",
        "regerror.sort()"
      ],
      "execution_count": null,
      "outputs": []
    },
    {
      "cell_type": "code",
      "metadata": {
        "id": "-W3Os8U4GvrP"
      },
      "source": [
        "regerror"
      ],
      "execution_count": null,
      "outputs": []
    },
    {
      "cell_type": "markdown",
      "metadata": {
        "id": "zVBFml3KUK8d"
      },
      "source": [
        "**Q2 Decision Tree**"
      ]
    },
    {
      "cell_type": "code",
      "metadata": {
        "id": "2mIzIxavKGvs"
      },
      "source": [
        "df = pd.read_csv(\"adult.csv\", header=None)\n",
        "df.columns = ['age','workclass','fnlwgt','education','education-num','marital-status','occupation','relationship','race','sex','capital-gain','capital-loss','hours-per-week','native-country','pred']\n"
      ],
      "execution_count": null,
      "outputs": []
    },
    {
      "cell_type": "code",
      "metadata": {
        "colab": {
          "base_uri": "https://localhost:8080/",
          "height": 472
        },
        "id": "AZTQk_Y1UbYm",
        "outputId": "1db766e1-9704-4236-c3b8-fdbdc7e26b00"
      },
      "source": [
        "#replace and drop empty spaces\n",
        "df.replace(' ?', np.nan,inplace=True)\n",
        "df.dropna(inplace=True)\n",
        "\n",
        "head = ['workclass','marital-status','occupation','relationship','race','sex','native-country','pred']\n",
        "#convert into label encoding\n",
        "for i in head:\n",
        "   a = df[i].to_numpy() \n",
        "   a = np.apply_along_axis(np.unique, 0, a, return_inverse=True)\n",
        "   df[i]=a[1]\n",
        "df.drop(columns='education')"
      ],
      "execution_count": null,
      "outputs": [
        {
          "output_type": "stream",
          "text": [
            "/usr/local/lib/python3.7/dist-packages/numpy/core/_asarray.py:136: VisibleDeprecationWarning: Creating an ndarray from ragged nested sequences (which is a list-or-tuple of lists-or-tuples-or ndarrays with different lengths or shapes) is deprecated. If you meant to do this, you must specify 'dtype=object' when creating the ndarray\n",
            "  return array(a, dtype, copy=False, order=order, subok=True)\n"
          ],
          "name": "stderr"
        },
        {
          "output_type": "execute_result",
          "data": {
            "text/html": [
              "<div>\n",
              "<style scoped>\n",
              "    .dataframe tbody tr th:only-of-type {\n",
              "        vertical-align: middle;\n",
              "    }\n",
              "\n",
              "    .dataframe tbody tr th {\n",
              "        vertical-align: top;\n",
              "    }\n",
              "\n",
              "    .dataframe thead th {\n",
              "        text-align: right;\n",
              "    }\n",
              "</style>\n",
              "<table border=\"1\" class=\"dataframe\">\n",
              "  <thead>\n",
              "    <tr style=\"text-align: right;\">\n",
              "      <th></th>\n",
              "      <th>age</th>\n",
              "      <th>workclass</th>\n",
              "      <th>fnlwgt</th>\n",
              "      <th>education-num</th>\n",
              "      <th>marital-status</th>\n",
              "      <th>occupation</th>\n",
              "      <th>relationship</th>\n",
              "      <th>race</th>\n",
              "      <th>sex</th>\n",
              "      <th>capital-gain</th>\n",
              "      <th>capital-loss</th>\n",
              "      <th>hours-per-week</th>\n",
              "      <th>native-country</th>\n",
              "      <th>pred</th>\n",
              "    </tr>\n",
              "  </thead>\n",
              "  <tbody>\n",
              "    <tr>\n",
              "      <th>0</th>\n",
              "      <td>39</td>\n",
              "      <td>5</td>\n",
              "      <td>77516</td>\n",
              "      <td>13</td>\n",
              "      <td>4</td>\n",
              "      <td>0</td>\n",
              "      <td>1</td>\n",
              "      <td>4</td>\n",
              "      <td>1</td>\n",
              "      <td>2174</td>\n",
              "      <td>0</td>\n",
              "      <td>40</td>\n",
              "      <td>38</td>\n",
              "      <td>0</td>\n",
              "    </tr>\n",
              "    <tr>\n",
              "      <th>1</th>\n",
              "      <td>50</td>\n",
              "      <td>4</td>\n",
              "      <td>83311</td>\n",
              "      <td>13</td>\n",
              "      <td>2</td>\n",
              "      <td>3</td>\n",
              "      <td>0</td>\n",
              "      <td>4</td>\n",
              "      <td>1</td>\n",
              "      <td>0</td>\n",
              "      <td>0</td>\n",
              "      <td>13</td>\n",
              "      <td>38</td>\n",
              "      <td>0</td>\n",
              "    </tr>\n",
              "    <tr>\n",
              "      <th>2</th>\n",
              "      <td>38</td>\n",
              "      <td>2</td>\n",
              "      <td>215646</td>\n",
              "      <td>9</td>\n",
              "      <td>0</td>\n",
              "      <td>5</td>\n",
              "      <td>1</td>\n",
              "      <td>4</td>\n",
              "      <td>1</td>\n",
              "      <td>0</td>\n",
              "      <td>0</td>\n",
              "      <td>40</td>\n",
              "      <td>38</td>\n",
              "      <td>0</td>\n",
              "    </tr>\n",
              "    <tr>\n",
              "      <th>3</th>\n",
              "      <td>53</td>\n",
              "      <td>2</td>\n",
              "      <td>234721</td>\n",
              "      <td>7</td>\n",
              "      <td>2</td>\n",
              "      <td>5</td>\n",
              "      <td>0</td>\n",
              "      <td>2</td>\n",
              "      <td>1</td>\n",
              "      <td>0</td>\n",
              "      <td>0</td>\n",
              "      <td>40</td>\n",
              "      <td>38</td>\n",
              "      <td>0</td>\n",
              "    </tr>\n",
              "    <tr>\n",
              "      <th>4</th>\n",
              "      <td>28</td>\n",
              "      <td>2</td>\n",
              "      <td>338409</td>\n",
              "      <td>13</td>\n",
              "      <td>2</td>\n",
              "      <td>9</td>\n",
              "      <td>5</td>\n",
              "      <td>2</td>\n",
              "      <td>0</td>\n",
              "      <td>0</td>\n",
              "      <td>0</td>\n",
              "      <td>40</td>\n",
              "      <td>4</td>\n",
              "      <td>0</td>\n",
              "    </tr>\n",
              "    <tr>\n",
              "      <th>...</th>\n",
              "      <td>...</td>\n",
              "      <td>...</td>\n",
              "      <td>...</td>\n",
              "      <td>...</td>\n",
              "      <td>...</td>\n",
              "      <td>...</td>\n",
              "      <td>...</td>\n",
              "      <td>...</td>\n",
              "      <td>...</td>\n",
              "      <td>...</td>\n",
              "      <td>...</td>\n",
              "      <td>...</td>\n",
              "      <td>...</td>\n",
              "      <td>...</td>\n",
              "    </tr>\n",
              "    <tr>\n",
              "      <th>32556</th>\n",
              "      <td>27</td>\n",
              "      <td>2</td>\n",
              "      <td>257302</td>\n",
              "      <td>12</td>\n",
              "      <td>2</td>\n",
              "      <td>12</td>\n",
              "      <td>5</td>\n",
              "      <td>4</td>\n",
              "      <td>0</td>\n",
              "      <td>0</td>\n",
              "      <td>0</td>\n",
              "      <td>38</td>\n",
              "      <td>38</td>\n",
              "      <td>0</td>\n",
              "    </tr>\n",
              "    <tr>\n",
              "      <th>32557</th>\n",
              "      <td>40</td>\n",
              "      <td>2</td>\n",
              "      <td>154374</td>\n",
              "      <td>9</td>\n",
              "      <td>2</td>\n",
              "      <td>6</td>\n",
              "      <td>0</td>\n",
              "      <td>4</td>\n",
              "      <td>1</td>\n",
              "      <td>0</td>\n",
              "      <td>0</td>\n",
              "      <td>40</td>\n",
              "      <td>38</td>\n",
              "      <td>1</td>\n",
              "    </tr>\n",
              "    <tr>\n",
              "      <th>32558</th>\n",
              "      <td>58</td>\n",
              "      <td>2</td>\n",
              "      <td>151910</td>\n",
              "      <td>9</td>\n",
              "      <td>6</td>\n",
              "      <td>0</td>\n",
              "      <td>4</td>\n",
              "      <td>4</td>\n",
              "      <td>0</td>\n",
              "      <td>0</td>\n",
              "      <td>0</td>\n",
              "      <td>40</td>\n",
              "      <td>38</td>\n",
              "      <td>0</td>\n",
              "    </tr>\n",
              "    <tr>\n",
              "      <th>32559</th>\n",
              "      <td>22</td>\n",
              "      <td>2</td>\n",
              "      <td>201490</td>\n",
              "      <td>9</td>\n",
              "      <td>4</td>\n",
              "      <td>0</td>\n",
              "      <td>3</td>\n",
              "      <td>4</td>\n",
              "      <td>1</td>\n",
              "      <td>0</td>\n",
              "      <td>0</td>\n",
              "      <td>20</td>\n",
              "      <td>38</td>\n",
              "      <td>0</td>\n",
              "    </tr>\n",
              "    <tr>\n",
              "      <th>32560</th>\n",
              "      <td>52</td>\n",
              "      <td>3</td>\n",
              "      <td>287927</td>\n",
              "      <td>9</td>\n",
              "      <td>2</td>\n",
              "      <td>3</td>\n",
              "      <td>5</td>\n",
              "      <td>4</td>\n",
              "      <td>0</td>\n",
              "      <td>15024</td>\n",
              "      <td>0</td>\n",
              "      <td>40</td>\n",
              "      <td>38</td>\n",
              "      <td>1</td>\n",
              "    </tr>\n",
              "  </tbody>\n",
              "</table>\n",
              "<p>30162 rows × 14 columns</p>\n",
              "</div>"
            ],
            "text/plain": [
              "       age  workclass  fnlwgt  ...  hours-per-week  native-country  pred\n",
              "0       39          5   77516  ...              40              38     0\n",
              "1       50          4   83311  ...              13              38     0\n",
              "2       38          2  215646  ...              40              38     0\n",
              "3       53          2  234721  ...              40              38     0\n",
              "4       28          2  338409  ...              40               4     0\n",
              "...    ...        ...     ...  ...             ...             ...   ...\n",
              "32556   27          2  257302  ...              38              38     0\n",
              "32557   40          2  154374  ...              40              38     1\n",
              "32558   58          2  151910  ...              40              38     0\n",
              "32559   22          2  201490  ...              20              38     0\n",
              "32560   52          3  287927  ...              40              38     1\n",
              "\n",
              "[30162 rows x 14 columns]"
            ]
          },
          "metadata": {},
          "execution_count": 74
        }
      ]
    },
    {
      "cell_type": "code",
      "metadata": {
        "colab": {
          "base_uri": "https://localhost:8080/"
        },
        "id": "so_U3w_6Uead",
        "outputId": "3a1aac60-3d56-4d56-c2dd-ca60e17db8c5"
      },
      "source": [
        "#The below features were converted into interval of that feature\n",
        "for i in ['hours-per-week','age']:\n",
        "    label={}\n",
        "    label['a'] = df[i]\n",
        "    label['a'] = pd.cut(df[i], 10)\n",
        "    a = label['a'].to_numpy() \n",
        "    a = np.apply_along_axis(np.unique, 0, a, return_inverse=True)\n",
        "    label['a']=a[1]\n",
        "    df[i] = label['a']\n",
        "\n",
        "#continious features are dropped\n",
        "fd = df.drop(columns=['capital-gain','capital-loss','fnlwgt','education',])"
      ],
      "execution_count": null,
      "outputs": [
        {
          "output_type": "stream",
          "text": [
            "/usr/local/lib/python3.7/dist-packages/numpy/core/_asarray.py:136: VisibleDeprecationWarning: Creating an ndarray from ragged nested sequences (which is a list-or-tuple of lists-or-tuples-or ndarrays with different lengths or shapes) is deprecated. If you meant to do this, you must specify 'dtype=object' when creating the ndarray\n",
            "  return array(a, dtype, copy=False, order=order, subok=True)\n",
            "/usr/local/lib/python3.7/dist-packages/numpy/core/_asarray.py:136: VisibleDeprecationWarning: Creating an ndarray from ragged nested sequences (which is a list-or-tuple of lists-or-tuples-or ndarrays with different lengths or shapes) is deprecated. If you meant to do this, you must specify 'dtype=object' when creating the ndarray\n",
            "  return array(a, dtype, copy=False, order=order, subok=True)\n"
          ],
          "name": "stderr"
        }
      ]
    },
    {
      "cell_type": "code",
      "metadata": {
        "id": "Dz8qBmh2U1FZ"
      },
      "source": [
        "class Node():\n",
        "    def __init__ (self,depth = 0, parent = None,):\n",
        "        self.depth = depth\n",
        "        self.parent = parent\n",
        "        self.child = {}\n",
        "        self.right = None\n",
        "        self.leaf = True\n",
        "        self.label = 0\n",
        "        self.current = None\n",
        "\n",
        "    \n",
        "    #calculate the entropy   \n",
        "    def entropy(self,df,feature):\n",
        "        a = len(df[df[feature]==1])\n",
        "        b = len(df[df[feature]==0])\n",
        "        ent = 0\n",
        "        if(a!=0):\n",
        "            ent =ent  -(a/(a+b))*np.log2(a/(a+b))\n",
        "        if(b!=0):\n",
        "            ent =ent - (b/(a+b))*np.log2(b/(a+b))\n",
        "        return ent\n",
        "    \n",
        "    #calculate the information gain\n",
        "    def infogain(self,df, feature):\n",
        "        l = np.unique(df[feature])\n",
        "        infogain = self.entropy(df,'pred')\n",
        "        b = len(df[feature])\n",
        "        for i in l:\n",
        "            a = len(df[df[feature]==i])\n",
        "            infogain = infogain-(a/b)*self.entropy(df[df[feature]==i],'pred')\n",
        "        return infogain\n",
        "    \n",
        "    #predict the output\n",
        "    def predict(self,df):\n",
        "        if self.leaf:\n",
        "            return self.label\n",
        "        else:\n",
        "            a = df[self.current]\n",
        "            try : \n",
        "                c = (self.child[a].predict(df))\n",
        "            except:\n",
        "                c = self.label\n",
        "            return c\n",
        "\n",
        "    #for the best feature selection\n",
        "    def sel(self,df,feature):\n",
        "        maxinfo = -1\n",
        "        maxfeature = None\n",
        "        for i in feature:\n",
        "            a = self.infogain(df,i)\n",
        "            if a > maxinfo:\n",
        "                maxinfo = a\n",
        "                maxfeature=i\n",
        "        return maxfeature\n",
        "\n",
        "    #train the tree\n",
        "    def train(self,feature,df,leafsize,depth):\n",
        "        if len(df) < leafsize or self.depth >= depth:\n",
        "            self.leaf = True\n",
        "            a=len(df[df['pred']==0])\n",
        "            b=len(df[df['pred']==1])\n",
        "            if(b>a):\n",
        "                self.label=1\n",
        "            else:\n",
        "                self.label=0\n",
        "        else:\n",
        "            ch = {}\n",
        "            self.leaf=False\n",
        "            self.current=self.sel(df,feature)\n",
        "            newlist = feature[:]\n",
        "            newlist.remove(self.current)\n",
        "            l = np.unique(df[self.current])\n",
        "            for i in l:\n",
        "                ch[i] = Node(depth=self.depth+1 , parent=self)\n",
        "            for i in l:\n",
        "                ch[i].train(newlist,df[df[self.current]==i] , leafsize , depth)\n",
        "            self.child=ch\n",
        "\n",
        "    "
      ],
      "execution_count": null,
      "outputs": []
    },
    {
      "cell_type": "code",
      "metadata": {
        "id": "k3W1Cur_U2bU"
      },
      "source": [
        "class Tree:\n",
        "    def __init__(self,leafsize = 10, depth = 5 ):\n",
        "        self.root = Node()\n",
        "        self.leafsize = leafsize\n",
        "        self.depth = depth \n",
        "\n",
        "    def predict( self, df ):\n",
        "        return self.root.predict(df )\n",
        "\n",
        "    def train(self,df,feature):\n",
        "        self.root.train(feature,df,self.leafsize,self.depth )"
      ],
      "execution_count": null,
      "outputs": []
    },
    {
      "cell_type": "code",
      "metadata": {
        "id": "6mk1_X8HVZs1"
      },
      "source": [
        "feat = list(fd.columns)\n",
        "feat.remove('pred')\n",
        "#accuracy of the decision tree\n",
        "def accuracy(a,b):\n",
        "    c = (a==b).value_counts()\n",
        "    acc = (c[True]/(c[True]+c[False]))*100\n",
        "    return acc"
      ],
      "execution_count": null,
      "outputs": []
    },
    {
      "cell_type": "code",
      "metadata": {
        "id": "RYCcFQ5PVcy3"
      },
      "source": [
        "text = int(len(fd)*0.7)\n",
        "train = fd.iloc[:text]\n",
        "test = fd.iloc[text:]\n",
        "rtest =train"
      ],
      "execution_count": null,
      "outputs": []
    },
    {
      "cell_type": "code",
      "metadata": {
        "id": "Zr5l5ZXXVgrw"
      },
      "source": [
        "#initialized the tree\n",
        "DT = Tree(leafsize=400,depth=7)\n",
        "part = np.array_split(rtest,10)\n",
        "for i in range(0,len(part)):\n",
        "    pd.DataFrame(part[i])\n",
        "rtrain = pd.concat(part[0:8])\n",
        "DT.train(rtrain,feat)\n",
        "rest = part[9]"
      ],
      "execution_count": null,
      "outputs": []
    },
    {
      "cell_type": "code",
      "metadata": {
        "colab": {
          "base_uri": "https://localhost:8080/"
        },
        "id": "D1CT_60fWLN-",
        "outputId": "cae9a2d0-97aa-45e9-90d4-8c4d76869cfa"
      },
      "source": [
        "p =[]\n",
        "for i in range(len(rest)):\n",
        "    p.append(DT.predict(rest.iloc[i]))\n",
        "pd.DataFrame(p)\n",
        "acc = accuracy(p[0],rest['pred'])\n",
        "print(acc)"
      ],
      "execution_count": null,
      "outputs": [
        {
          "output_type": "stream",
          "text": [
            "75.08289909995263\n"
          ],
          "name": "stdout"
        }
      ]
    },
    {
      "cell_type": "markdown",
      "metadata": {
        "id": "tbAYWfyeXDhL"
      },
      "source": [
        "Accuracy on initial validation set is 75.1"
      ]
    },
    {
      "cell_type": "code",
      "metadata": {
        "id": "YduVxi4cbS3N",
        "colab": {
          "base_uri": "https://localhost:8080/",
          "height": 959
        },
        "outputId": "ed59e871-cacc-43fe-99b0-3c7227044b86"
      },
      "source": [
        "#cross validation for parameter optimization\n",
        "l = []\n",
        "part = np.array_split(rtest,5)\n",
        "for z in range(0,len(part)):\n",
        "    pd.DataFrame(part[z])\n",
        "for i in range(50,750,100):\n",
        "    for j in range(1,7):\n",
        "        DT = Tree(leafsize=i,depth=j)  \n",
        "        sum = 0    \n",
        "        for z in range(len(part)):\n",
        "            rest = part[z]\n",
        "            rtrain = pd.concat(part[0:z]+part[z+1:])\n",
        "            DT.train(rtrain,feat)\n",
        "            p =[]\n",
        "            for z in range(len(rest)):\n",
        "                p.append(DT.predict(rest.iloc[z]))\n",
        "                pd.DataFrame(p)\n",
        "                acc = accuracy(p[0],rest['pred'])\n",
        "            sum=sum+acc\n",
        "        l.append((sum/5,i,j))"
      ],
      "execution_count": null,
      "outputs": [
        {
          "output_type": "stream",
          "text": [
            "ERROR:root:Internal Python error in the inspect module.\n",
            "Below is the traceback from this internal error.\n",
            "\n"
          ],
          "name": "stderr"
        },
        {
          "output_type": "stream",
          "text": [
            "Traceback (most recent call last):\n",
            "  File \"/usr/local/lib/python3.7/dist-packages/IPython/core/interactiveshell.py\", line 2882, in run_code\n",
            "    exec(code_obj, self.user_global_ns, self.user_ns)\n",
            "  File \"<ipython-input-82-816d1b1c1b46>\", line 17, in <module>\n",
            "    pd.DataFrame(p)\n",
            "  File \"/usr/local/lib/python3.7/dist-packages/pandas/core/frame.py\", line 523, in __init__\n",
            "    mgr = init_ndarray(data, index, columns, dtype=dtype, copy=copy)\n",
            "  File \"/usr/local/lib/python3.7/dist-packages/pandas/core/internals/construction.py\", line 190, in init_ndarray\n",
            "    values = _prep_ndarray(values, copy=copy)\n",
            "  File \"/usr/local/lib/python3.7/dist-packages/pandas/core/internals/construction.py\", line 310, in _prep_ndarray\n",
            "    values = convert(values)\n",
            "  File \"/usr/local/lib/python3.7/dist-packages/pandas/core/internals/construction.py\", line 298, in convert\n",
            "    return maybe_convert_platform(v)\n",
            "  File \"/usr/local/lib/python3.7/dist-packages/pandas/core/dtypes/cast.py\", line 95, in maybe_convert_platform\n",
            "    values = lib.maybe_convert_objects(values)\n",
            "  File \"pandas/_libs/lib.pyx\", line 2118, in pandas._libs.lib.maybe_convert_objects\n",
            "  File \"/usr/local/lib/python3.7/dist-packages/numpy/core/numeric.py\", line 268, in full\n",
            "    @set_module('numpy')\n",
            "KeyboardInterrupt\n",
            "\n",
            "During handling of the above exception, another exception occurred:\n",
            "\n",
            "Traceback (most recent call last):\n",
            "  File \"/usr/local/lib/python3.7/dist-packages/IPython/core/interactiveshell.py\", line 1823, in showtraceback\n",
            "    stb = value._render_traceback_()\n",
            "AttributeError: 'KeyboardInterrupt' object has no attribute '_render_traceback_'\n",
            "\n",
            "During handling of the above exception, another exception occurred:\n",
            "\n",
            "Traceback (most recent call last):\n",
            "  File \"/usr/local/lib/python3.7/dist-packages/IPython/core/ultratb.py\", line 1132, in get_records\n",
            "    return _fixed_getinnerframes(etb, number_of_lines_of_context, tb_offset)\n",
            "  File \"/usr/local/lib/python3.7/dist-packages/IPython/core/ultratb.py\", line 313, in wrapped\n",
            "    return f(*args, **kwargs)\n",
            "  File \"/usr/local/lib/python3.7/dist-packages/IPython/core/ultratb.py\", line 358, in _fixed_getinnerframes\n",
            "    records = fix_frame_records_filenames(inspect.getinnerframes(etb, context))\n",
            "  File \"/usr/lib/python3.7/inspect.py\", line 1502, in getinnerframes\n",
            "    frameinfo = (tb.tb_frame,) + getframeinfo(tb, context)\n",
            "  File \"/usr/lib/python3.7/inspect.py\", line 1464, in getframeinfo\n",
            "    lines, lnum = findsource(frame)\n",
            "  File \"/usr/local/lib/python3.7/dist-packages/IPython/core/ultratb.py\", line 170, in findsource\n",
            "    file = getsourcefile(object) or getfile(object)\n",
            "  File \"/usr/lib/python3.7/inspect.py\", line 696, in getsourcefile\n",
            "    if getattr(getmodule(object, filename), '__loader__', None) is not None:\n",
            "  File \"/usr/lib/python3.7/inspect.py\", line 732, in getmodule\n",
            "    for modname, module in sys.modules.copy().items():\n",
            "KeyboardInterrupt\n"
          ],
          "name": "stdout"
        },
        {
          "output_type": "error",
          "ename": "KeyboardInterrupt",
          "evalue": "ignored",
          "traceback": [
            "\u001b[0;31m---------------------------------------------------------------------------\u001b[0m"
          ]
        }
      ]
    },
    {
      "cell_type": "code",
      "metadata": {
        "id": "0mGbeTptdmE_"
      },
      "source": [
        ""
      ],
      "execution_count": null,
      "outputs": []
    }
  ]
}