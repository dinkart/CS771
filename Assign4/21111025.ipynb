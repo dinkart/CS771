{
 "cells": [
  {
   "cell_type": "code",
   "execution_count": 1,
   "id": "086d78f1",
   "metadata": {},
   "outputs": [],
   "source": [
    "import numpy as np\n",
    "import matplotlib.pyplot as plt"
   ]
  },
  {
   "cell_type": "markdown",
   "id": "e2f0039d",
   "metadata": {},
   "source": [
    "## Q1.a"
   ]
  },
  {
   "cell_type": "code",
   "execution_count": 2,
   "id": "ef93e345",
   "metadata": {},
   "outputs": [],
   "source": [
    "def perceptronAlgo(w0, X, Y, learnRate = 1):      # X -> Set of features, Y -> Set of class\n",
    "    w = w_n = w0\n",
    "    t = 0\n",
    "    c = 50                          #If there is no mistake for 50 consecutive values of (x,y), we will consider w is converged \n",
    "    while True:\n",
    "        i = np.random.randint(len(X))\n",
    "        x_n, y_n = X[i], Y[i]\n",
    "        if y_n * (w).dot(x_n) < 0:\n",
    "            w_n = w + y_n*x_n*learnRate\n",
    "            t += 1\n",
    "            c = 50\n",
    "        if (w_n == w).all():\n",
    "            if c:\n",
    "                c -= 1\n",
    "            else:\n",
    "                break\n",
    "        else:\n",
    "            w = w_n\n",
    "    return w"
   ]
  },
  {
   "cell_type": "markdown",
   "id": "378d9773",
   "metadata": {},
   "source": [
    "## Q1.b"
   ]
  },
  {
   "cell_type": "code",
   "execution_count": 3,
   "id": "37dee8b3",
   "metadata": {},
   "outputs": [],
   "source": [
    "def splitData(data):\n",
    "    train = data[:int(len(data)*0.6)]\n",
    "    test = data[int(len(data)*0.6):]\n",
    "    return train, test"
   ]
  },
  {
   "cell_type": "code",
   "execution_count": 4,
   "id": "7f3a6aa3",
   "metadata": {},
   "outputs": [],
   "source": [
    "data = np.loadtxt(\"data_banknote_authentication.txt\", delimiter = ',')\n",
    "data = np.unique(data,axis=0)                       #To remove duplication\n",
    "data[data == 0] = -1\n",
    "np.random.shuffle(data)\n",
    "train_set, test_set = splitData(data)               #To split the data into train and test set"
   ]
  },
  {
   "cell_type": "code",
   "execution_count": 5,
   "id": "86f1804c",
   "metadata": {},
   "outputs": [],
   "source": [
    "#Funtion a w thats fits the given (X,Y)\n",
    "def get_w(X, Y):\n",
    "    w0 = np.array([1 for i in range(len(X[0]))])\n",
    "    w = perceptronAlgo(w0, X, Y)\n",
    "    return w"
   ]
  },
  {
   "cell_type": "code",
   "execution_count": 6,
   "id": "6f3e8808",
   "metadata": {},
   "outputs": [],
   "source": [
    "#Predicts loss or no loss\n",
    "def predict(w, x, y):\n",
    "    if y * (w.T).dot(x) >= 0:\n",
    "        return 0                    #No loss\n",
    "    else:\n",
    "        return 1                    #Loss"
   ]
  },
  {
   "cell_type": "markdown",
   "id": "a71f6ef7",
   "metadata": {},
   "source": [
    "# Q1.c "
   ]
  },
  {
   "cell_type": "markdown",
   "id": "7d169bb3",
   "metadata": {},
   "source": [
    "K-Fold Cross Validation"
   ]
  },
  {
   "cell_type": "code",
   "execution_count": 7,
   "id": "f19d4d84",
   "metadata": {},
   "outputs": [],
   "source": [
    "def crossValidation(data):\n",
    "    fold = 5\n",
    "    leng = len(data)//fold\n",
    "    error = np.inf\n",
    "    w_final = []\n",
    "    for f in range(1, fold+1):\n",
    "        l = (f-1) * leng\n",
    "        if f == fold:\n",
    "            r = len(data)\n",
    "        else:\n",
    "            r = f * leng\n",
    "        test = data[l: r]                              #validation set\n",
    "        train = np.concatenate([data[:l], data[r:]])   #training set\n",
    "        X_train = []\n",
    "        X_train = np.array([np.append(X_train,train[i][0:-1]) for i in range(len(train))])\n",
    "        Y_train = []\n",
    "        Y_train = np.array([np.append(Y_train,train[i][-1]) for i in range(len(train))])\n",
    "        w = get_w(X_train, Y_train)\n",
    "        \n",
    "        X_test = []\n",
    "        X_test = np.array([np.append(X_test,test[i][0:-1]) for i in range(len(test))])\n",
    "        Y_test = []\n",
    "        Y_test = np.array([np.append(Y_test,test[i][-1]) for i in range(len(test))])\n",
    "        e = 0\n",
    "        for i in range(len(test)):\n",
    "            if predict(w, X_test[i], Y_test[i]):\n",
    "                e += 1\n",
    "        e = e/len(test) * 100\n",
    "        if e < error:\n",
    "            error = e\n",
    "            w_final = w\n",
    "    print(\"Cross validation test set error = \", error)\n",
    "    return w_final"
   ]
  },
  {
   "cell_type": "code",
   "execution_count": 8,
   "id": "b64fe705",
   "metadata": {},
   "outputs": [
    {
     "name": "stdout",
     "output_type": "stream",
     "text": [
      "Cross validation test set error =  3.7267080745341614\n"
     ]
    }
   ],
   "source": [
    "w = crossValidation(train_set)"
   ]
  },
  {
   "cell_type": "markdown",
   "id": "0342732c",
   "metadata": {},
   "source": [
    "# Q1.e"
   ]
  },
  {
   "cell_type": "code",
   "execution_count": 9,
   "id": "79c629b0",
   "metadata": {},
   "outputs": [],
   "source": [
    "#Function to calculate F1 score\n",
    "def calF1score(data, w):\n",
    "    X = []\n",
    "    X = np.array([np.append(X,data[i][0:-1]) for i in range(len(data))])\n",
    "    Y = []\n",
    "    Y = np.array([np.append(Y,data[i][-1]) for i in range(len(data))])\n",
    "    t_p = t_n = f_p = f_n = 0\n",
    "    error = 0\n",
    "    for i in range(len(data)):\n",
    "        if predict(w, X[i], Y[i]):\n",
    "            error += 1\n",
    "            if Y[i] == 1:\n",
    "                f_n += 1\n",
    "            else:\n",
    "                f_p += 1\n",
    "        else:\n",
    "            if Y[i] == 1:\n",
    "                t_p += 1\n",
    "            else:\n",
    "                t_n += 1\n",
    "    return t_p / (t_p + 0.5*(f_p+f_n))"
   ]
  },
  {
   "cell_type": "code",
   "execution_count": 10,
   "id": "7f19ee95",
   "metadata": {},
   "outputs": [
    {
     "data": {
      "text/plain": [
       "0.9398663697104677"
      ]
     },
     "execution_count": 10,
     "metadata": {},
     "output_type": "execute_result"
    }
   ],
   "source": [
    "calF1score(test_set, w)"
   ]
  },
  {
   "cell_type": "markdown",
   "id": "5f5d3a7d",
   "metadata": {},
   "source": [
    "## Q2.a"
   ]
  },
  {
   "cell_type": "code",
   "execution_count": 11,
   "id": "9a8ad36c",
   "metadata": {},
   "outputs": [],
   "source": [
    "#Creating data\n",
    "np.random.seed(0)\n",
    "mean = 10\n",
    "sd = 5\n",
    "data = sd * np.random.randn(50) + mean\n",
    "mean_prior = 25\n",
    "sd_prior = 5"
   ]
  },
  {
   "cell_type": "markdown",
   "id": "6508708d",
   "metadata": {},
   "source": [
    "Normal Distribution Function;  \n",
    "$ N(x|\\mu, \\sigma) = \\frac{1}{\\sigma \\sqrt{2\\pi}}e^{-\\frac{1}{2}\\left ( \\frac{x - \\mu}{\\sigma} \\right )^{2}} $"
   ]
  },
  {
   "cell_type": "code",
   "execution_count": 12,
   "id": "cf516252",
   "metadata": {},
   "outputs": [],
   "source": [
    "def normalDF(x, mean, sd):\n",
    "    var = sd**2\n",
    "    den = ((2*np.pi)**0.5)*sd\n",
    "    return den**(-1) * np.exp(- (1/2)*((x - mean)/sd)**2)"
   ]
  },
  {
   "cell_type": "markdown",
   "id": "0bb80615",
   "metadata": {},
   "source": [
    "$ p(D|\\mu,\\sigma) = \\prod_{i=1}^nN(x_i|\\mu,\\sigma) = (2\\pi\\sigma^2)^{-\\frac{n}{2}}e^{-\\frac{1}{2\\sigma^2\\sum_{i=1}^n\\left ( x_i - \\mu \\right )^2}} $  \n",
    "  \n",
    "which can be reduced to;  \n",
    "$ p(D|\\mu,\\sigma) = N(\\bar{x}|\\mu,\\frac{\\sigma}{\\sqrt{n}})$  \n",
    "  \n",
    "where, $\\bar(x)$ = mean of the current data  \n",
    "n = number of data points"
   ]
  },
  {
   "cell_type": "code",
   "execution_count": 13,
   "id": "127b1e66",
   "metadata": {},
   "outputs": [],
   "source": [
    "def likelihood(X, mean, sd):\n",
    "    x_mean = 0\n",
    "    for i in X:\n",
    "        x_mean += i\n",
    "    x_mean = x_mean/len(X)\n",
    "    return normalDF(x_mean, mean, sd/(len(X)**0.5))"
   ]
  },
  {
   "cell_type": "code",
   "execution_count": 14,
   "id": "beccc115",
   "metadata": {},
   "outputs": [],
   "source": [
    "def prior(mean, mean_prior, sd_prior):\n",
    "    return normalDF(mean, mean_prior, sd_prior)"
   ]
  },
  {
   "cell_type": "code",
   "execution_count": 15,
   "id": "6d4e5845",
   "metadata": {},
   "outputs": [],
   "source": [
    "def bayesianPosteriorProbability(X, mean, sd, mean_prior, sd_prior):\n",
    "    n = len(X)\n",
    "    x_mean = 0\n",
    "    for i in X:\n",
    "        x_mean += i\n",
    "    x_mean = x_mean/len(X)\n",
    "    new_sd = ((1/sd_prior**2) + (n/sd**2))**-0.5\n",
    "    new_mean = (new_sd**2)*(mean_prior/sd_prior**2 + (x_mean*n)/sd**2)\n",
    "    return new_mean, new_sd"
   ]
  },
  {
   "cell_type": "code",
   "execution_count": 16,
   "id": "53c2dc12",
   "metadata": {},
   "outputs": [
    {
     "name": "stdout",
     "output_type": "stream",
     "text": [
      "Posterior Mean:  10.983133687809302   Posterior Standard deviation:  0.7001400420140049\n"
     ]
    }
   ],
   "source": [
    "mean_pos, sd_pos = bayesianPosteriorProbability(data, mean, sd, mean_prior, sd_prior)\n",
    "print(\"Posterior Mean: \", mean_pos,\"  Posterior Standard deviation: \", sd_pos)"
   ]
  },
  {
   "cell_type": "code",
   "execution_count": 17,
   "id": "4e37e355",
   "metadata": {},
   "outputs": [
    {
     "data": {
      "image/png": "[encoded data removed]",
      "text/plain": [
       "<Figure size 640x480 with 1 Axes>"
      ]
     },
     "metadata": {
      "needs_background": "light"
     },
     "output_type": "display_data"
    }
   ],
   "source": [
    "l = mean_prior - 5*sd_prior\n",
    "r = mean_prior + 5*sd_prior\n",
    "X = np.random.uniform(l,r,1000)\n",
    "X.sort()\n",
    "n = len(data)\n",
    "d_mean = 0\n",
    "for i in data:\n",
    "    d_mean += i\n",
    "d_mean = d_mean/n\n",
    "Y_prior = [normalDF(i,mean_prior,sd_prior) for i in X]\n",
    "Y_likelihood = [normalDF(d_mean,i,sd/n**0.5) for i in X]\n",
    "Y_posterior = [normalDF(i,mean_pos,sd_pos) for i in X]\n",
    "plt.figure(figsize=(8, 6), dpi=80)\n",
    "plt.plot(X,Y_likelihood, label = \"Likelihood\")\n",
    "plt.plot(X,Y_prior, label = \"Prior\")\n",
    "plt.plot(X,Y_posterior, label = \"Posterior\")\n",
    "leg = plt.legend(loc='upper center')"
   ]
  },
  {
   "cell_type": "markdown",
   "id": "78d0599d",
   "metadata": {},
   "source": [
    "2.b"
   ]
  },
  {
   "cell_type": "code",
   "execution_count": 18,
   "id": "51699a11",
   "metadata": {},
   "outputs": [],
   "source": [
    "# Metropolis  algorithm\n",
    "np.random.seed(0)\n",
    "mu = np.random.randn()\n",
    "sd = 100\n",
    "for i in range(10000):\n",
    "    mu_new = sd * np.random.randn() + mu\n",
    "    num = prior(mu_new, mean_prior, sd_prior) * likelihood(X, mu_new, sd)\n",
    "    den = prior(mu, mean_prior, sd_prior) * likelihood(X, mu, sd)\n",
    "    r = num/den\n",
    "    a = np.random.uniform(0,1)\n",
    "    if r > a:\n",
    "        mu = mu_new"
   ]
  },
  {
   "cell_type": "code",
   "execution_count": null,
   "id": "5dbf5432",
   "metadata": {},
   "outputs": [],
   "source": []
  },
  {
   "cell_type": "code",
   "execution_count": null,
   "id": "b5c307c0",
   "metadata": {},
   "outputs": [],
   "source": []
  }
 ],
 "metadata": {
  "kernelspec": {
   "display_name": "Python 3 (ipykernel)",
   "language": "python",
   "name": "python3"
  },
  "language_info": {
   "codemirror_mode": {
    "name": "ipython",
    "version": 3
   },
   "file_extension": ".py",
   "mimetype": "text/x-python",
   "name": "python",
   "nbconvert_exporter": "python",
   "pygments_lexer": "ipython3",
   "version": "3.9.6"
  }
 },
 "nbformat": 4,
 "nbformat_minor": 5
}
